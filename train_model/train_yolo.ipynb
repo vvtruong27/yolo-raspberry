{
 "cells": [
  {
   "cell_type": "code",
   "execution_count": 1,
   "id": "4ada701a-c224-4dd4-971e-58edcf9bd000",
   "metadata": {},
   "outputs": [],
   "source": [
    "\"\"\"\n",
    "Script train YOLOv8n để nhận diện biển báo giao thông\n",
    "Tối ưu để deploy trên Raspberry Pi 5 (train trên GPU mạnh)\n",
    "\"\"\"\n",
    "\n",
    "import yaml\n",
    "from ultralytics import YOLO\n",
    "import torch\n",
    "import os"
   ]
  },
  {
   "cell_type": "code",
   "execution_count": 2,
   "id": "37e80edc-b137-4250-a512-71badeeaca06",
   "metadata": {},
   "outputs": [
    {
     "name": "stdout",
     "output_type": "stream",
     "text": [
      "\n",
      "💻 KIỂM TRA PHẦN CỨNG TRAINING\n",
      "==================================================\n",
      "CUDA available: True\n",
      "GPU: NVIDIA H100 80GB HBM3\n",
      "Memory: 84.9 GB\n",
      "✅ Sử dụng GPU để training nhanh hơn\n"
     ]
    }
   ],
   "source": [
    "print(\"\\n💻 KIỂM TRA PHẦN CỨNG TRAINING\")\n",
    "print(\"=\" * 50)\n",
    "print(\"CUDA available:\", torch.cuda.is_available())\n",
    "if torch.cuda.is_available():\n",
    "    print(\"GPU:\", torch.cuda.get_device_name())\n",
    "    print(f\"Memory: {torch.cuda.get_device_properties(0).total_memory / 1e9:.1f} GB\")\n",
    "    print(\"✅ Sử dụng GPU để training nhanh hơn\")\n",
    "else:\n",
    "    print(\"⚠️  Training trên CPU (sẽ chậm hơn)\")"
   ]
  },
  {
   "cell_type": "code",
   "execution_count": 3,
   "id": "7a8fb941-21c7-4b9a-9c94-74e1e915b8f6",
   "metadata": {},
   "outputs": [
    {
     "name": "stdout",
     "output_type": "stream",
     "text": [
      "Downloading https://github.com/ultralytics/assets/releases/download/v8.3.0/yolov8n.pt to 'yolov8n.pt'...\n"
     ]
    },
    {
     "name": "stderr",
     "output_type": "stream",
     "text": [
      "100%|██████████| 6.25M/6.25M [00:00<00:00, 16.3MB/s]\n"
     ]
    },
    {
     "name": "stdout",
     "output_type": "stream",
     "text": [
      "📊 Training parameters:\n",
      "data: dataset.yaml\n",
      "epochs: 30\n",
      "patience: 15\n",
      "batch: -1\n",
      "workers: 8\n",
      "name: fpt_experiment\n",
      "exist_ok: True\n",
      "cache: True\n",
      "cos_lr: True\n",
      "close_mosaic: 10\n"
     ]
    }
   ],
   "source": [
    "# Khởi tạo model YOLOv8n với pretrained weights\n",
    "model = YOLO('yolov8n.pt')\n",
    "\n",
    "# Cấu hình các hyperparameters\n",
    "train_params = {\n",
    "    'data': \"dataset.yaml\",          # File cấu hình dataset\n",
    "    'epochs': 30,                   # Số epoch\n",
    "    'patience': 15,                  # Early stopping\n",
    "    'batch': -1,                     # Auto batch size\n",
    "    'workers': 8,                   # Số worker\n",
    "    'name': 'fpt_experiment',        # Tên experiment\n",
    "    'exist_ok': True,                # Ghi đè nếu đã tồn tại\n",
    "    'cache': True,                   # Cache dữ liệu\n",
    "    'cos_lr': True,                  # Sử dụng cosine LR scheduler\n",
    "    'close_mosaic': 10,              # Đóng mosaic sau 10 epoch\n",
    "}\n",
    "\n",
    "print(\"📊 Training parameters:\")\n",
    "for k, v in train_params.items():\n",
    "    print(f\"{k}: {v}\")"
   ]
  },
  {
   "cell_type": "code",
   "execution_count": 4,
   "id": "cc279dce-82a0-4e3b-9cfe-0385bb7738c4",
   "metadata": {},
   "outputs": [
    {
     "name": "stdout",
     "output_type": "stream",
     "text": [
      "\n",
      "=== 🔧 BẮT ĐẦU TRAINING ===\n",
      "Ultralytics 8.3.170 🚀 Python-3.10.12 torch-2.7.1+cu126 CUDA:0 (NVIDIA H100 80GB HBM3, 80995MiB)\n",
      "\u001b[34m\u001b[1mengine/trainer: \u001b[0magnostic_nms=False, amp=True, augment=False, auto_augment=randaugment, batch=-1, bgr=0.0, box=7.5, cache=True, cfg=None, classes=None, close_mosaic=10, cls=0.5, conf=None, copy_paste=0.0, copy_paste_mode=flip, cos_lr=True, cutmix=0.0, data=dataset.yaml, degrees=0.0, deterministic=True, device=None, dfl=1.5, dnn=False, dropout=0.0, dynamic=False, embed=None, epochs=30, erasing=0.4, exist_ok=True, fliplr=0.5, flipud=0.0, format=torchscript, fraction=1.0, freeze=None, half=False, hsv_h=0.015, hsv_s=0.7, hsv_v=0.4, imgsz=640, int8=False, iou=0.7, keras=False, kobj=1.0, line_width=None, lr0=0.01, lrf=0.01, mask_ratio=4, max_det=300, mixup=0.0, mode=train, model=yolov8n.pt, momentum=0.937, mosaic=1.0, multi_scale=False, name=fpt_experiment, nbs=64, nms=False, opset=None, optimize=False, optimizer=auto, overlap_mask=True, patience=15, perspective=0.0, plots=True, pose=12.0, pretrained=True, profile=False, project=None, rect=False, resume=False, retina_masks=False, save=True, save_conf=False, save_crop=False, save_dir=runs/detect/fpt_experiment, save_frames=False, save_json=False, save_period=-1, save_txt=False, scale=0.5, seed=0, shear=0.0, show=False, show_boxes=True, show_conf=True, show_labels=True, simplify=True, single_cls=False, source=None, split=val, stream_buffer=False, task=detect, time=None, tracker=botsort.yaml, translate=0.1, val=True, verbose=True, vid_stride=1, visualize=False, warmup_bias_lr=0.1, warmup_epochs=3.0, warmup_momentum=0.8, weight_decay=0.0005, workers=8, workspace=None\n",
      "Overriding model.yaml nc=80 with nc=1\n",
      "\n",
      "                   from  n    params  module                                       arguments                     \n",
      "  0                  -1  1       464  ultralytics.nn.modules.conv.Conv             [3, 16, 3, 2]                 \n",
      "  1                  -1  1      4672  ultralytics.nn.modules.conv.Conv             [16, 32, 3, 2]                \n",
      "  2                  -1  1      7360  ultralytics.nn.modules.block.C2f             [32, 32, 1, True]             \n",
      "  3                  -1  1     18560  ultralytics.nn.modules.conv.Conv             [32, 64, 3, 2]                \n",
      "  4                  -1  2     49664  ultralytics.nn.modules.block.C2f             [64, 64, 2, True]             \n",
      "  5                  -1  1     73984  ultralytics.nn.modules.conv.Conv             [64, 128, 3, 2]               \n",
      "  6                  -1  2    197632  ultralytics.nn.modules.block.C2f             [128, 128, 2, True]           \n",
      "  7                  -1  1    295424  ultralytics.nn.modules.conv.Conv             [128, 256, 3, 2]              \n",
      "  8                  -1  1    460288  ultralytics.nn.modules.block.C2f             [256, 256, 1, True]           \n",
      "  9                  -1  1    164608  ultralytics.nn.modules.block.SPPF            [256, 256, 5]                 \n",
      " 10                  -1  1         0  torch.nn.modules.upsampling.Upsample         [None, 2, 'nearest']          \n",
      " 11             [-1, 6]  1         0  ultralytics.nn.modules.conv.Concat           [1]                           \n",
      " 12                  -1  1    148224  ultralytics.nn.modules.block.C2f             [384, 128, 1]                 \n",
      " 13                  -1  1         0  torch.nn.modules.upsampling.Upsample         [None, 2, 'nearest']          \n",
      " 14             [-1, 4]  1         0  ultralytics.nn.modules.conv.Concat           [1]                           \n",
      " 15                  -1  1     37248  ultralytics.nn.modules.block.C2f             [192, 64, 1]                  \n",
      " 16                  -1  1     36992  ultralytics.nn.modules.conv.Conv             [64, 64, 3, 2]                \n",
      " 17            [-1, 12]  1         0  ultralytics.nn.modules.conv.Concat           [1]                           \n",
      " 18                  -1  1    123648  ultralytics.nn.modules.block.C2f             [192, 128, 1]                 \n",
      " 19                  -1  1    147712  ultralytics.nn.modules.conv.Conv             [128, 128, 3, 2]              \n",
      " 20             [-1, 9]  1         0  ultralytics.nn.modules.conv.Concat           [1]                           \n",
      " 21                  -1  1    493056  ultralytics.nn.modules.block.C2f             [384, 256, 1]                 \n",
      " 22        [15, 18, 21]  1    751507  ultralytics.nn.modules.head.Detect           [1, [64, 128, 256]]           \n",
      "Model summary: 129 layers, 3,011,043 parameters, 3,011,027 gradients, 8.2 GFLOPs\n",
      "\n",
      "Transferred 319/355 items from pretrained weights\n",
      "Freezing layer 'model.22.dfl.conv.weight'\n",
      "\u001b[34m\u001b[1mAMP: \u001b[0mrunning Automatic Mixed Precision (AMP) checks...\n",
      "Downloading https://github.com/ultralytics/assets/releases/download/v8.3.0/yolo11n.pt to 'yolo11n.pt'...\n"
     ]
    },
    {
     "name": "stderr",
     "output_type": "stream",
     "text": [
      "100%|██████████| 5.35M/5.35M [00:00<00:00, 15.9MB/s]\n"
     ]
    },
    {
     "name": "stdout",
     "output_type": "stream",
     "text": [
      "\u001b[34m\u001b[1mAMP: \u001b[0mchecks passed ✅\n",
      "\u001b[34m\u001b[1mtrain: \u001b[0mFast image access ✅ (ping: 0.0±0.0 ms, read: 2492.0±791.6 MB/s, size: 35.5 KB)\n"
     ]
    },
    {
     "name": "stderr",
     "output_type": "stream",
     "text": [
      "\u001b[34m\u001b[1mtrain: \u001b[0mScanning /home/admin/archive/train/labels.cache... 1551 images, 0 backgrounds, 0 corrupt: 100%|██████████| 1551/1551 [00:00<?, ?it/s]"
     ]
    },
    {
     "name": "stdout",
     "output_type": "stream",
     "text": [
      "\u001b[34m\u001b[1mtrain: \u001b[0m/home/admin/archive/train/images/Poselet_10.jpg: 1 duplicate labels removed\n",
      "\u001b[34m\u001b[1mtrain: \u001b[0m/home/admin/archive/train/images/Poselet_180.jpg: 1 duplicate labels removed\n",
      "\u001b[34m\u001b[1mtrain: \u001b[0m/home/admin/archive/train/images/Poselet_247.jpg: 1 duplicate labels removed\n",
      "\u001b[34m\u001b[1mtrain: \u001b[0m/home/admin/archive/train/images/Poselet_268.jpg: 1 duplicate labels removed\n",
      "\u001b[34m\u001b[1mtrain: \u001b[0m/home/admin/archive/train/images/Poselet_282.jpg: 1 duplicate labels removed\n",
      "\u001b[34m\u001b[1mtrain: \u001b[0m/home/admin/archive/train/images/Poselet_290.jpg: 1 duplicate labels removed\n",
      "\u001b[34m\u001b[1mtrain: \u001b[0m/home/admin/archive/train/images/Poselet_298.jpg: 1 duplicate labels removed\n",
      "\u001b[34m\u001b[1mtrain: \u001b[0m/home/admin/archive/train/images/Poselet_359.jpg: 1 duplicate labels removed\n",
      "\u001b[34m\u001b[1mtrain: \u001b[0m/home/admin/archive/train/images/Skin_281.jpg: 1 duplicate labels removed\n",
      "\u001b[34m\u001b[1mtrain: \u001b[0m/home/admin/archive/train/images/VOC2010_723.jpg: 1 duplicate labels removed\n",
      "\u001b[34m\u001b[1mtrain: \u001b[0m/home/admin/archive/train/images/VOC2010_749.jpg: 1 duplicate labels removed\n",
      "\u001b[34m\u001b[1mAutoBatch: \u001b[0mComputing optimal batch size for imgsz=640 at 60.0% CUDA memory utilization.\n",
      "\u001b[34m\u001b[1mAutoBatch: \u001b[0mCUDA:0 (NVIDIA H100 80GB HBM3) 79.10G total, 0.10G reserved, 0.06G allocated, 78.93G free\n",
      "      Params      GFLOPs  GPU_mem (GB)  forward (ms) backward (ms)                   input                  output\n"
     ]
    },
    {
     "name": "stderr",
     "output_type": "stream",
     "text": [
      "\n"
     ]
    },
    {
     "name": "stdout",
     "output_type": "stream",
     "text": [
      "     3011043       8.194         0.384         16.72         200.9        (1, 3, 640, 640)                    list\n",
      "     3011043       16.39         0.533         7.698         123.9        (2, 3, 640, 640)                    list\n",
      "     3011043       32.78         0.837         8.585         118.4        (4, 3, 640, 640)                    list\n",
      "     3011043       65.55         1.428          9.63         130.1        (8, 3, 640, 640)                    list\n",
      "     3011043       131.1         2.512         11.94         120.5       (16, 3, 640, 640)                    list\n",
      "     3011043       262.2         4.459         15.93           116       (32, 3, 640, 640)                    list\n",
      "     3011043       524.4         8.447         31.14         130.1       (64, 3, 640, 640)                    list\n",
      "\u001b[34m\u001b[1mAutoBatch: \u001b[0mUsing batch-size 366 for CUDA:0 47.15G/79.10G (60%) ✅\n",
      "\u001b[34m\u001b[1mtrain: \u001b[0mFast image access ✅ (ping: 0.0±0.0 ms, read: 1969.2±781.4 MB/s, size: 28.4 KB)\n"
     ]
    },
    {
     "name": "stderr",
     "output_type": "stream",
     "text": [
      "\u001b[34m\u001b[1mtrain: \u001b[0mScanning /home/admin/archive/train/labels.cache... 1551 images, 0 backgrounds, 0 corrupt: 100%|██████████| 1551/1551 [00:00<?, ?it/s]"
     ]
    },
    {
     "name": "stdout",
     "output_type": "stream",
     "text": [
      "\u001b[34m\u001b[1mtrain: \u001b[0m/home/admin/archive/train/images/Poselet_10.jpg: 1 duplicate labels removed\n",
      "\u001b[34m\u001b[1mtrain: \u001b[0m/home/admin/archive/train/images/Poselet_180.jpg: 1 duplicate labels removed\n",
      "\u001b[34m\u001b[1mtrain: \u001b[0m/home/admin/archive/train/images/Poselet_247.jpg: 1 duplicate labels removed\n",
      "\u001b[34m\u001b[1mtrain: \u001b[0m/home/admin/archive/train/images/Poselet_268.jpg: 1 duplicate labels removed\n",
      "\u001b[34m\u001b[1mtrain: \u001b[0m/home/admin/archive/train/images/Poselet_282.jpg: 1 duplicate labels removed\n",
      "\u001b[34m\u001b[1mtrain: \u001b[0m/home/admin/archive/train/images/Poselet_290.jpg: 1 duplicate labels removed\n",
      "\u001b[34m\u001b[1mtrain: \u001b[0m/home/admin/archive/train/images/Poselet_298.jpg: 1 duplicate labels removed\n",
      "\u001b[34m\u001b[1mtrain: \u001b[0m/home/admin/archive/train/images/Poselet_359.jpg: 1 duplicate labels removed\n",
      "\u001b[34m\u001b[1mtrain: \u001b[0m/home/admin/archive/train/images/Skin_281.jpg: 1 duplicate labels removed\n",
      "\u001b[34m\u001b[1mtrain: \u001b[0m/home/admin/archive/train/images/VOC2010_723.jpg: 1 duplicate labels removed\n",
      "\u001b[34m\u001b[1mtrain: \u001b[0m/home/admin/archive/train/images/VOC2010_749.jpg: 1 duplicate labels removed\n",
      "WARNING ⚠️ cache='ram' may produce non-deterministic training results. Consider cache='disk' as a deterministic alternative if your disk space allows.\n"
     ]
    },
    {
     "name": "stderr",
     "output_type": "stream",
     "text": [
      "\n",
      "\u001b[34m\u001b[1mtrain: \u001b[0mCaching images (1.3GB RAM): 100%|██████████| 1551/1551 [00:00<00:00, 4099.84it/s]\n"
     ]
    },
    {
     "name": "stdout",
     "output_type": "stream",
     "text": [
      "\u001b[34m\u001b[1mval: \u001b[0mFast image access ✅ (ping: 0.0±0.0 ms, read: 1265.1±857.5 MB/s, size: 37.1 KB)\n"
     ]
    },
    {
     "name": "stderr",
     "output_type": "stream",
     "text": [
      "\u001b[34m\u001b[1mval: \u001b[0mScanning /home/admin/archive/test/labels.cache... 510 images, 0 backgrounds, 0 corrupt: 100%|██████████| 510/510 [00:00<?, ?it/s]"
     ]
    },
    {
     "name": "stdout",
     "output_type": "stream",
     "text": [
      "WARNING ⚠️ cache='ram' may produce non-deterministic training results. Consider cache='disk' as a deterministic alternative if your disk space allows.\n"
     ]
    },
    {
     "name": "stderr",
     "output_type": "stream",
     "text": [
      "\n",
      "\u001b[34m\u001b[1mval: \u001b[0mCaching images (0.4GB RAM): 100%|██████████| 510/510 [00:00<00:00, 4026.49it/s]\n"
     ]
    },
    {
     "name": "stdout",
     "output_type": "stream",
     "text": [
      "Plotting labels to runs/detect/fpt_experiment/labels.jpg... \n",
      "\u001b[34m\u001b[1moptimizer:\u001b[0m 'optimizer=auto' found, ignoring 'lr0=0.01' and 'momentum=0.937' and determining best 'optimizer', 'lr0' and 'momentum' automatically... \n",
      "\u001b[34m\u001b[1moptimizer:\u001b[0m AdamW(lr=0.002, momentum=0.9) with parameter groups 57 weight(decay=0.0), 64 weight(decay=0.002859375), 63 bias(decay=0.0)\n",
      "Image sizes 640 train, 640 val\n",
      "Using 8 dataloader workers\n",
      "Logging results to \u001b[1mruns/detect/fpt_experiment\u001b[0m\n",
      "Starting training for 30 epochs...\n",
      "\n",
      "      Epoch    GPU_mem   box_loss   cls_loss   dfl_loss  Instances       Size\n"
     ]
    },
    {
     "name": "stderr",
     "output_type": "stream",
     "text": [
      "       1/30      42.3G      2.245      4.074      1.988        266        640: 100%|██████████| 5/5 [00:16<00:00,  3.28s/it]\n",
      "                 Class     Images  Instances      Box(P          R      mAP50  mAP50-95): 100%|██████████| 1/1 [00:02<00:00,  2.08s/it]"
     ]
    },
    {
     "name": "stdout",
     "output_type": "stream",
     "text": [
      "                   all        510       1003    0.00241      0.367    0.00196   0.000591\n"
     ]
    },
    {
     "name": "stderr",
     "output_type": "stream",
     "text": [
      "\n"
     ]
    },
    {
     "name": "stdout",
     "output_type": "stream",
     "text": [
      "\n",
      "      Epoch    GPU_mem   box_loss   cls_loss   dfl_loss  Instances       Size\n"
     ]
    },
    {
     "name": "stderr",
     "output_type": "stream",
     "text": [
      "       2/30      42.5G      2.225      4.033      1.964        261        640: 100%|██████████| 5/5 [00:03<00:00,  1.64it/s]\n",
      "                 Class     Images  Instances      Box(P          R      mAP50  mAP50-95): 100%|██████████| 1/1 [00:00<00:00,  1.13it/s]"
     ]
    },
    {
     "name": "stdout",
     "output_type": "stream",
     "text": [
      "                   all        510       1003     0.0051      0.779     0.0127    0.00401\n",
      "\n",
      "      Epoch    GPU_mem   box_loss   cls_loss   dfl_loss  Instances       Size\n"
     ]
    },
    {
     "name": "stderr",
     "output_type": "stream",
     "text": [
      "\n",
      "       3/30      39.8G      1.822      3.073      1.534        268        640: 100%|██████████| 5/5 [00:02<00:00,  2.11it/s]\n",
      "                 Class     Images  Instances      Box(P          R      mAP50  mAP50-95): 100%|██████████| 1/1 [00:00<00:00,  1.25it/s]"
     ]
    },
    {
     "name": "stdout",
     "output_type": "stream",
     "text": [
      "                   all        510       1003    0.00644      0.982      0.188     0.0697\n"
     ]
    },
    {
     "name": "stderr",
     "output_type": "stream",
     "text": [
      "\n"
     ]
    },
    {
     "name": "stdout",
     "output_type": "stream",
     "text": [
      "\n",
      "      Epoch    GPU_mem   box_loss   cls_loss   dfl_loss  Instances       Size\n"
     ]
    },
    {
     "name": "stderr",
     "output_type": "stream",
     "text": [
      "       4/30        40G      1.784      2.549       1.45        267        640: 100%|██████████| 5/5 [00:02<00:00,  2.12it/s]\n",
      "                 Class     Images  Instances      Box(P          R      mAP50  mAP50-95): 100%|██████████| 1/1 [00:00<00:00,  1.28it/s]"
     ]
    },
    {
     "name": "stdout",
     "output_type": "stream",
     "text": [
      "                   all        510       1003    0.00643      0.981      0.248     0.0886\n",
      "\n",
      "      Epoch    GPU_mem   box_loss   cls_loss   dfl_loss  Instances       Size\n"
     ]
    },
    {
     "name": "stderr",
     "output_type": "stream",
     "text": [
      "\n",
      "       5/30      39.9G       1.67      2.188      1.368        295        640: 100%|██████████| 5/5 [00:02<00:00,  2.04it/s]\n",
      "                 Class     Images  Instances      Box(P          R      mAP50  mAP50-95): 100%|██████████| 1/1 [00:00<00:00,  1.29it/s]"
     ]
    },
    {
     "name": "stdout",
     "output_type": "stream",
     "text": [
      "                   all        510       1003    0.00533      0.813      0.193     0.0692\n",
      "\n",
      "      Epoch    GPU_mem   box_loss   cls_loss   dfl_loss  Instances       Size\n"
     ]
    },
    {
     "name": "stderr",
     "output_type": "stream",
     "text": [
      "\n",
      "       6/30      39.9G      1.637       2.02      1.346        255        640: 100%|██████████| 5/5 [00:02<00:00,  2.11it/s]\n",
      "                 Class     Images  Instances      Box(P          R      mAP50  mAP50-95): 100%|██████████| 1/1 [00:00<00:00,  1.23it/s]"
     ]
    },
    {
     "name": "stdout",
     "output_type": "stream",
     "text": [
      "                   all        510       1003      0.782     0.0609      0.241     0.0941\n"
     ]
    },
    {
     "name": "stderr",
     "output_type": "stream",
     "text": [
      "\n"
     ]
    },
    {
     "name": "stdout",
     "output_type": "stream",
     "text": [
      "\n",
      "      Epoch    GPU_mem   box_loss   cls_loss   dfl_loss  Instances       Size\n"
     ]
    },
    {
     "name": "stderr",
     "output_type": "stream",
     "text": [
      "       7/30        40G       1.63      1.917      1.347        259        640: 100%|██████████| 5/5 [00:02<00:00,  2.10it/s]\n",
      "                 Class     Images  Instances      Box(P          R      mAP50  mAP50-95): 100%|██████████| 1/1 [00:00<00:00,  1.27it/s]"
     ]
    },
    {
     "name": "stdout",
     "output_type": "stream",
     "text": [
      "                   all        510       1003      0.848     0.0334      0.251     0.0968\n",
      "\n",
      "      Epoch    GPU_mem   box_loss   cls_loss   dfl_loss  Instances       Size\n"
     ]
    },
    {
     "name": "stderr",
     "output_type": "stream",
     "text": [
      "\n",
      "       8/30        40G      1.557      1.788      1.317        292        640: 100%|██████████| 5/5 [00:02<00:00,  2.08it/s]\n",
      "                 Class     Images  Instances      Box(P          R      mAP50  mAP50-95): 100%|██████████| 1/1 [00:00<00:00,  1.29it/s]"
     ]
    },
    {
     "name": "stdout",
     "output_type": "stream",
     "text": [
      "                   all        510       1003      0.874     0.0277      0.228     0.0971\n",
      "\n",
      "      Epoch    GPU_mem   box_loss   cls_loss   dfl_loss  Instances       Size\n"
     ]
    },
    {
     "name": "stderr",
     "output_type": "stream",
     "text": [
      "\n",
      "       9/30      40.2G      1.551      1.698      1.287        244        640: 100%|██████████| 5/5 [00:02<00:00,  2.11it/s]\n",
      "                 Class     Images  Instances      Box(P          R      mAP50  mAP50-95): 100%|██████████| 1/1 [00:00<00:00,  1.30it/s]"
     ]
    },
    {
     "name": "stdout",
     "output_type": "stream",
     "text": [
      "                   all        510       1003      0.632     0.0299     0.0557     0.0258\n"
     ]
    },
    {
     "name": "stderr",
     "output_type": "stream",
     "text": [
      "\n"
     ]
    },
    {
     "name": "stdout",
     "output_type": "stream",
     "text": [
      "\n",
      "      Epoch    GPU_mem   box_loss   cls_loss   dfl_loss  Instances       Size\n"
     ]
    },
    {
     "name": "stderr",
     "output_type": "stream",
     "text": [
      "      10/30      40.8G      1.541      1.685      1.295        239        640: 100%|██████████| 5/5 [00:02<00:00,  2.11it/s]\n",
      "                 Class     Images  Instances      Box(P          R      mAP50  mAP50-95): 100%|██████████| 1/1 [00:00<00:00,  1.27it/s]"
     ]
    },
    {
     "name": "stdout",
     "output_type": "stream",
     "text": [
      "                   all        510       1003      0.944     0.0335      0.237     0.0989\n"
     ]
    },
    {
     "name": "stderr",
     "output_type": "stream",
     "text": [
      "\n"
     ]
    },
    {
     "name": "stdout",
     "output_type": "stream",
     "text": [
      "\n",
      "      Epoch    GPU_mem   box_loss   cls_loss   dfl_loss  Instances       Size\n"
     ]
    },
    {
     "name": "stderr",
     "output_type": "stream",
     "text": [
      "      11/30      39.9G      1.529      1.611      1.281        243        640: 100%|██████████| 5/5 [00:02<00:00,  2.10it/s]\n",
      "                 Class     Images  Instances      Box(P          R      mAP50  mAP50-95): 100%|██████████| 1/1 [00:00<00:00,  1.27it/s]"
     ]
    },
    {
     "name": "stdout",
     "output_type": "stream",
     "text": [
      "                   all        510       1003      0.579      0.171      0.213     0.0844\n",
      "\n",
      "      Epoch    GPU_mem   box_loss   cls_loss   dfl_loss  Instances       Size\n"
     ]
    },
    {
     "name": "stderr",
     "output_type": "stream",
     "text": [
      "\n",
      "      12/30        40G      1.522      1.525      1.271        278        640: 100%|██████████| 5/5 [00:02<00:00,  2.10it/s]\n",
      "                 Class     Images  Instances      Box(P          R      mAP50  mAP50-95): 100%|██████████| 1/1 [00:00<00:00,  1.29it/s]"
     ]
    },
    {
     "name": "stdout",
     "output_type": "stream",
     "text": [
      "                   all        510       1003       0.66      0.151      0.276      0.106\n"
     ]
    },
    {
     "name": "stderr",
     "output_type": "stream",
     "text": [
      "\n"
     ]
    },
    {
     "name": "stdout",
     "output_type": "stream",
     "text": [
      "\n",
      "      Epoch    GPU_mem   box_loss   cls_loss   dfl_loss  Instances       Size\n"
     ]
    },
    {
     "name": "stderr",
     "output_type": "stream",
     "text": [
      "      13/30      40.1G      1.508      1.478      1.259        263        640: 100%|██████████| 5/5 [00:02<00:00,  2.11it/s]\n",
      "                 Class     Images  Instances      Box(P          R      mAP50  mAP50-95): 100%|██████████| 1/1 [00:00<00:00,  1.19it/s]"
     ]
    },
    {
     "name": "stdout",
     "output_type": "stream",
     "text": [
      "                   all        510       1003       0.57       0.23      0.381      0.172\n"
     ]
    },
    {
     "name": "stderr",
     "output_type": "stream",
     "text": [
      "\n"
     ]
    },
    {
     "name": "stdout",
     "output_type": "stream",
     "text": [
      "\n",
      "      Epoch    GPU_mem   box_loss   cls_loss   dfl_loss  Instances       Size\n"
     ]
    },
    {
     "name": "stderr",
     "output_type": "stream",
     "text": [
      "      14/30      40.1G      1.487      1.429       1.24        250        640: 100%|██████████| 5/5 [00:02<00:00,  2.04it/s]\n",
      "                 Class     Images  Instances      Box(P          R      mAP50  mAP50-95): 100%|██████████| 1/1 [00:00<00:00,  1.25it/s]"
     ]
    },
    {
     "name": "stdout",
     "output_type": "stream",
     "text": [
      "                   all        510       1003      0.881      0.226      0.392      0.188\n",
      "\n",
      "      Epoch    GPU_mem   box_loss   cls_loss   dfl_loss  Instances       Size\n"
     ]
    },
    {
     "name": "stderr",
     "output_type": "stream",
     "text": [
      "\n",
      "      15/30      39.9G      1.469      1.375      1.237        240        640: 100%|██████████| 5/5 [00:02<00:00,  2.11it/s]\n",
      "                 Class     Images  Instances      Box(P          R      mAP50  mAP50-95): 100%|██████████| 1/1 [00:00<00:00,  1.28it/s]"
     ]
    },
    {
     "name": "stdout",
     "output_type": "stream",
     "text": [
      "                   all        510       1003      0.495      0.126      0.178     0.0815\n",
      "\n",
      "      Epoch    GPU_mem   box_loss   cls_loss   dfl_loss  Instances       Size\n"
     ]
    },
    {
     "name": "stderr",
     "output_type": "stream",
     "text": [
      "\n",
      "      16/30      39.9G      1.483      1.333       1.23        229        640: 100%|██████████| 5/5 [00:02<00:00,  2.10it/s]\n",
      "                 Class     Images  Instances      Box(P          R      mAP50  mAP50-95): 100%|██████████| 1/1 [00:00<00:00,  1.18it/s]"
     ]
    },
    {
     "name": "stdout",
     "output_type": "stream",
     "text": [
      "                   all        510       1003      0.543      0.176      0.233      0.111\n",
      "\n",
      "      Epoch    GPU_mem   box_loss   cls_loss   dfl_loss  Instances       Size\n"
     ]
    },
    {
     "name": "stderr",
     "output_type": "stream",
     "text": [
      "\n",
      "      17/30      40.2G      1.445      1.295      1.216        285        640: 100%|██████████| 5/5 [00:02<00:00,  2.07it/s]\n",
      "                 Class     Images  Instances      Box(P          R      mAP50  mAP50-95): 100%|██████████| 1/1 [00:00<00:00,  1.26it/s]"
     ]
    },
    {
     "name": "stdout",
     "output_type": "stream",
     "text": [
      "                   all        510       1003      0.659      0.278      0.353      0.177\n",
      "\n",
      "      Epoch    GPU_mem   box_loss   cls_loss   dfl_loss  Instances       Size\n"
     ]
    },
    {
     "name": "stderr",
     "output_type": "stream",
     "text": [
      "\n",
      "      18/30      40.2G      1.438      1.256      1.208        286        640: 100%|██████████| 5/5 [00:02<00:00,  2.11it/s]\n",
      "                 Class     Images  Instances      Box(P          R      mAP50  mAP50-95): 100%|██████████| 1/1 [00:00<00:00,  1.27it/s]"
     ]
    },
    {
     "name": "stdout",
     "output_type": "stream",
     "text": [
      "                   all        510       1003      0.915      0.267       0.45      0.226\n",
      "\n",
      "      Epoch    GPU_mem   box_loss   cls_loss   dfl_loss  Instances       Size\n"
     ]
    },
    {
     "name": "stderr",
     "output_type": "stream",
     "text": [
      "\n",
      "      19/30      39.9G      1.421      1.241      1.212        250        640: 100%|██████████| 5/5 [00:02<00:00,  2.03it/s]\n",
      "                 Class     Images  Instances      Box(P          R      mAP50  mAP50-95): 100%|██████████| 1/1 [00:00<00:00,  1.28it/s]"
     ]
    },
    {
     "name": "stdout",
     "output_type": "stream",
     "text": [
      "                   all        510       1003      0.818      0.341      0.454       0.23\n"
     ]
    },
    {
     "name": "stderr",
     "output_type": "stream",
     "text": [
      "\n"
     ]
    },
    {
     "name": "stdout",
     "output_type": "stream",
     "text": [
      "\n",
      "      Epoch    GPU_mem   box_loss   cls_loss   dfl_loss  Instances       Size\n"
     ]
    },
    {
     "name": "stderr",
     "output_type": "stream",
     "text": [
      "      20/30      40.1G      1.408      1.198      1.192        299        640: 100%|██████████| 5/5 [00:02<00:00,  2.08it/s]\n",
      "                 Class     Images  Instances      Box(P          R      mAP50  mAP50-95): 100%|██████████| 1/1 [00:00<00:00,  1.25it/s]"
     ]
    },
    {
     "name": "stdout",
     "output_type": "stream",
     "text": [
      "                   all        510       1003      0.872      0.524       0.69      0.353\n",
      "Closing dataloader mosaic\n"
     ]
    },
    {
     "name": "stderr",
     "output_type": "stream",
     "text": [
      "\n"
     ]
    },
    {
     "name": "stdout",
     "output_type": "stream",
     "text": [
      "\n",
      "      Epoch    GPU_mem   box_loss   cls_loss   dfl_loss  Instances       Size\n"
     ]
    },
    {
     "name": "stderr",
     "output_type": "stream",
     "text": [
      "      21/30      41.7G      1.363      1.268       1.18        139        640: 100%|██████████| 5/5 [00:04<00:00,  1.09it/s]\n",
      "                 Class     Images  Instances      Box(P          R      mAP50  mAP50-95): 100%|██████████| 1/1 [00:00<00:00,  1.25it/s]"
     ]
    },
    {
     "name": "stdout",
     "output_type": "stream",
     "text": [
      "                   all        510       1003      0.722      0.316      0.384      0.194\n",
      "\n",
      "      Epoch    GPU_mem   box_loss   cls_loss   dfl_loss  Instances       Size\n"
     ]
    },
    {
     "name": "stderr",
     "output_type": "stream",
     "text": [
      "\n",
      "      22/30      40.2G       1.35      1.204      1.181        148        640: 100%|██████████| 5/5 [00:02<00:00,  2.13it/s]\n",
      "                 Class     Images  Instances      Box(P          R      mAP50  mAP50-95): 100%|██████████| 1/1 [00:00<00:00,  1.27it/s]"
     ]
    },
    {
     "name": "stdout",
     "output_type": "stream",
     "text": [
      "                   all        510       1003      0.778       0.53      0.613      0.306\n"
     ]
    },
    {
     "name": "stderr",
     "output_type": "stream",
     "text": [
      "\n"
     ]
    },
    {
     "name": "stdout",
     "output_type": "stream",
     "text": [
      "\n",
      "      Epoch    GPU_mem   box_loss   cls_loss   dfl_loss  Instances       Size\n"
     ]
    },
    {
     "name": "stderr",
     "output_type": "stream",
     "text": [
      "      23/30      39.8G      1.323      1.141      1.155        156        640: 100%|██████████| 5/5 [00:02<00:00,  2.14it/s]\n",
      "                 Class     Images  Instances      Box(P          R      mAP50  mAP50-95): 100%|██████████| 1/1 [00:00<00:00,  1.25it/s]"
     ]
    },
    {
     "name": "stdout",
     "output_type": "stream",
     "text": [
      "                   all        510       1003      0.791      0.562      0.642       0.33\n",
      "\n",
      "      Epoch    GPU_mem   box_loss   cls_loss   dfl_loss  Instances       Size\n"
     ]
    },
    {
     "name": "stderr",
     "output_type": "stream",
     "text": [
      "\n",
      "      24/30      39.7G      1.287      1.103      1.145        147        640: 100%|██████████| 5/5 [00:02<00:00,  2.10it/s]\n",
      "                 Class     Images  Instances      Box(P          R      mAP50  mAP50-95): 100%|██████████| 1/1 [00:00<00:00,  1.27it/s]"
     ]
    },
    {
     "name": "stdout",
     "output_type": "stream",
     "text": [
      "                   all        510       1003      0.831      0.643      0.719      0.374\n"
     ]
    },
    {
     "name": "stderr",
     "output_type": "stream",
     "text": [
      "\n"
     ]
    },
    {
     "name": "stdout",
     "output_type": "stream",
     "text": [
      "\n",
      "      Epoch    GPU_mem   box_loss   cls_loss   dfl_loss  Instances       Size\n"
     ]
    },
    {
     "name": "stderr",
     "output_type": "stream",
     "text": [
      "      25/30        40G      1.272      1.051      1.137        155        640: 100%|██████████| 5/5 [00:02<00:00,  2.13it/s]\n",
      "                 Class     Images  Instances      Box(P          R      mAP50  mAP50-95): 100%|██████████| 1/1 [00:00<00:00,  1.29it/s]"
     ]
    },
    {
     "name": "stdout",
     "output_type": "stream",
     "text": [
      "                   all        510       1003      0.849      0.663      0.752      0.394\n"
     ]
    },
    {
     "name": "stderr",
     "output_type": "stream",
     "text": [
      "\n"
     ]
    },
    {
     "name": "stdout",
     "output_type": "stream",
     "text": [
      "\n",
      "      Epoch    GPU_mem   box_loss   cls_loss   dfl_loss  Instances       Size\n"
     ]
    },
    {
     "name": "stderr",
     "output_type": "stream",
     "text": [
      "      26/30        40G      1.248      1.024      1.124        177        640: 100%|██████████| 5/5 [00:02<00:00,  2.13it/s]\n",
      "                 Class     Images  Instances      Box(P          R      mAP50  mAP50-95): 100%|██████████| 1/1 [00:00<00:00,  1.26it/s]"
     ]
    },
    {
     "name": "stdout",
     "output_type": "stream",
     "text": [
      "                   all        510       1003      0.864      0.741       0.84      0.442\n",
      "\n",
      "      Epoch    GPU_mem   box_loss   cls_loss   dfl_loss  Instances       Size\n"
     ]
    },
    {
     "name": "stderr",
     "output_type": "stream",
     "text": [
      "\n",
      "      27/30      39.8G      1.252       1.01      1.121        154        640: 100%|██████████| 5/5 [00:02<00:00,  2.08it/s]\n",
      "                 Class     Images  Instances      Box(P          R      mAP50  mAP50-95): 100%|██████████| 1/1 [00:00<00:00,  1.24it/s]"
     ]
    },
    {
     "name": "stdout",
     "output_type": "stream",
     "text": [
      "                   all        510       1003       0.87      0.742      0.845      0.454\n",
      "\n",
      "      Epoch    GPU_mem   box_loss   cls_loss   dfl_loss  Instances       Size\n"
     ]
    },
    {
     "name": "stderr",
     "output_type": "stream",
     "text": [
      "\n",
      "      28/30      40.2G      1.214     0.9927      1.106        149        640: 100%|██████████| 5/5 [00:02<00:00,  2.13it/s]\n",
      "                 Class     Images  Instances      Box(P          R      mAP50  mAP50-95): 100%|██████████| 1/1 [00:00<00:00,  1.27it/s]"
     ]
    },
    {
     "name": "stdout",
     "output_type": "stream",
     "text": [
      "                   all        510       1003      0.862       0.77      0.856      0.456\n"
     ]
    },
    {
     "name": "stderr",
     "output_type": "stream",
     "text": [
      "\n"
     ]
    },
    {
     "name": "stdout",
     "output_type": "stream",
     "text": [
      "\n",
      "      Epoch    GPU_mem   box_loss   cls_loss   dfl_loss  Instances       Size\n"
     ]
    },
    {
     "name": "stderr",
     "output_type": "stream",
     "text": [
      "      29/30      40.1G      1.227     0.9933      1.114        138        640: 100%|██████████| 5/5 [00:02<00:00,  2.11it/s]\n",
      "                 Class     Images  Instances      Box(P          R      mAP50  mAP50-95): 100%|██████████| 1/1 [00:00<00:00,  1.20it/s]"
     ]
    },
    {
     "name": "stdout",
     "output_type": "stream",
     "text": [
      "                   all        510       1003      0.882      0.777      0.872      0.468\n"
     ]
    },
    {
     "name": "stderr",
     "output_type": "stream",
     "text": [
      "\n"
     ]
    },
    {
     "name": "stdout",
     "output_type": "stream",
     "text": [
      "\n",
      "      Epoch    GPU_mem   box_loss   cls_loss   dfl_loss  Instances       Size\n"
     ]
    },
    {
     "name": "stderr",
     "output_type": "stream",
     "text": [
      "      30/30        40G      1.206     0.9696      1.103        157        640: 100%|██████████| 5/5 [00:02<00:00,  2.13it/s]\n",
      "                 Class     Images  Instances      Box(P          R      mAP50  mAP50-95): 100%|██████████| 1/1 [00:00<00:00,  1.26it/s]"
     ]
    },
    {
     "name": "stdout",
     "output_type": "stream",
     "text": [
      "                   all        510       1003      0.871       0.79      0.881      0.473\n"
     ]
    },
    {
     "name": "stderr",
     "output_type": "stream",
     "text": [
      "\n"
     ]
    },
    {
     "name": "stdout",
     "output_type": "stream",
     "text": [
      "\n",
      "30 epochs completed in 0.035 hours.\n",
      "Optimizer stripped from runs/detect/fpt_experiment/weights/last.pt, 6.2MB\n",
      "Optimizer stripped from runs/detect/fpt_experiment/weights/best.pt, 6.2MB\n",
      "\n",
      "Validating runs/detect/fpt_experiment/weights/best.pt...\n",
      "Ultralytics 8.3.170 🚀 Python-3.10.12 torch-2.7.1+cu126 CUDA:0 (NVIDIA H100 80GB HBM3, 80995MiB)\n",
      "Model summary (fused): 72 layers, 3,005,843 parameters, 0 gradients, 8.1 GFLOPs\n"
     ]
    },
    {
     "name": "stderr",
     "output_type": "stream",
     "text": [
      "                 Class     Images  Instances      Box(P          R      mAP50  mAP50-95): 100%|██████████| 1/1 [00:00<00:00,  1.06it/s]\n"
     ]
    },
    {
     "name": "stdout",
     "output_type": "stream",
     "text": [
      "                   all        510       1003      0.872      0.791      0.882      0.473\n",
      "Speed: 0.0ms preprocess, 0.2ms inference, 0.0ms loss, 0.6ms postprocess per image\n",
      "Results saved to \u001b[1mruns/detect/fpt_experiment\u001b[0m\n"
     ]
    }
   ],
   "source": [
    "print(\"\\n=== 🔧 BẮT ĐẦU TRAINING ===\")\n",
    "results = model.train(**train_params)"
   ]
  },
  {
   "cell_type": "code",
   "execution_count": 5,
   "id": "78f2aa50-1882-41b9-95b4-004863872921",
   "metadata": {},
   "outputs": [
    {
     "name": "stdout",
     "output_type": "stream",
     "text": [
      "✅ Best model saved at: runs/detect/fpt_experiment/weights/best.pt\n"
     ]
    }
   ],
   "source": [
    "best_model_path = f\"{results.save_dir}/weights/best.pt\"\n",
    "print(f\"✅ Best model saved at: {best_model_path}\")"
   ]
  },
  {
   "cell_type": "code",
   "execution_count": 6,
   "id": "a9cd3e3a-1ade-4701-b77a-23f471f3a3ba",
   "metadata": {},
   "outputs": [
    {
     "name": "stdout",
     "output_type": "stream",
     "text": [
      "\n",
      "=== 📤 BẮT ĐẦU EXPORT ===\n",
      "Ultralytics 8.3.170 🚀 Python-3.10.12 torch-2.7.1+cu126 CPU (Intel Xeon Platinum 8462Y+)\n",
      "Model summary (fused): 72 layers, 3,005,843 parameters, 0 gradients, 8.1 GFLOPs\n",
      "\n",
      "\u001b[34m\u001b[1mPyTorch:\u001b[0m starting from 'runs/detect/fpt_experiment/weights/best.pt' with input shape (1, 3, 640, 640) BCHW and output shape(s) (1, 5, 8400) (6.0 MB)\n",
      "\n",
      "\u001b[34m\u001b[1mTorchScript:\u001b[0m starting export with torch 2.7.1+cu126...\n",
      "\u001b[34m\u001b[1mTorchScript:\u001b[0m export success ✅ 0.7s, saved as 'runs/detect/fpt_experiment/weights/best.torchscript' (11.9 MB)\n",
      "\n",
      "\u001b[34m\u001b[1mNCNN:\u001b[0m starting export with NCNN 1.0.20250503...\n",
      "\u001b[34m\u001b[1mNCNN:\u001b[0m running '/home/admin/.local/lib/python3.10/site-packages/ultralytics/pnnx runs/detect/fpt_experiment/weights/best.torchscript ncnnparam=runs/detect/fpt_experiment/weights/best_ncnn_model/model.ncnn.param ncnnbin=runs/detect/fpt_experiment/weights/best_ncnn_model/model.ncnn.bin ncnnpy=runs/detect/fpt_experiment/weights/best_ncnn_model/model_ncnn.py pnnxparam=runs/detect/fpt_experiment/weights/best_ncnn_model/model.pnnx.param pnnxbin=runs/detect/fpt_experiment/weights/best_ncnn_model/model.pnnx.bin pnnxpy=runs/detect/fpt_experiment/weights/best_ncnn_model/model_pnnx.py pnnxonnx=runs/detect/fpt_experiment/weights/best_ncnn_model/model.pnnx.onnx fp16=0 device=cpu inputshape=\"[1, 3, 640, 640]\"'\n"
     ]
    },
    {
     "name": "stderr",
     "output_type": "stream",
     "text": [
      "pnnxparam = runs/detect/fpt_experiment/weights/best_ncnn_model/model.pnnx.param\n",
      "pnnxbin = runs/detect/fpt_experiment/weights/best_ncnn_model/model.pnnx.bin\n",
      "pnnxpy = runs/detect/fpt_experiment/weights/best_ncnn_model/model_pnnx.py\n",
      "pnnxonnx = runs/detect/fpt_experiment/weights/best_ncnn_model/model.pnnx.onnx\n",
      "ncnnparam = runs/detect/fpt_experiment/weights/best_ncnn_model/model.ncnn.param\n",
      "ncnnbin = runs/detect/fpt_experiment/weights/best_ncnn_model/model.ncnn.bin\n",
      "ncnnpy = runs/detect/fpt_experiment/weights/best_ncnn_model/model_ncnn.py\n",
      "fp16 = 0\n",
      "optlevel = 2\n",
      "device = cpu\n",
      "inputshape = [1,3,640,640]f32\n",
      "inputshape2 = \n",
      "customop = \n",
      "moduleop = \n",
      "get inputshape from traced inputs\n",
      "inputshape = [1,3,640,640]f32\n",
      "############# pass_level0\n",
      "inline module = ultralytics.nn.modules.block.Bottleneck\n",
      "inline module = ultralytics.nn.modules.block.C2f\n",
      "inline module = ultralytics.nn.modules.block.DFL\n",
      "inline module = ultralytics.nn.modules.block.SPPF\n",
      "inline module = ultralytics.nn.modules.conv.Concat\n",
      "inline module = ultralytics.nn.modules.conv.Conv\n",
      "inline module = ultralytics.nn.modules.head.Detect\n",
      "inline module = ultralytics.nn.modules.block.Bottleneck\n",
      "inline module = ultralytics.nn.modules.block.C2f\n",
      "inline module = ultralytics.nn.modules.block.DFL\n",
      "inline module = ultralytics.nn.modules.block.SPPF\n",
      "inline module = ultralytics.nn.modules.conv.Concat\n",
      "inline module = ultralytics.nn.modules.conv.Conv\n",
      "inline module = ultralytics.nn.modules.head.Detect\n",
      "\n",
      "----------------\n",
      "\n"
     ]
    },
    {
     "name": "stdout",
     "output_type": "stream",
     "text": [
      "\u001b[34m\u001b[1mNCNN:\u001b[0m export success ✅ 1.1s, saved as 'runs/detect/fpt_experiment/weights/best_ncnn_model' (11.6 MB)\n",
      "\n",
      "Export complete (2.1s)\n",
      "Results saved to \u001b[1m/home/admin/runs/detect/fpt_experiment/weights\u001b[0m\n",
      "Predict:         yolo predict task=detect model=runs/detect/fpt_experiment/weights/best_ncnn_model imgsz=640  \n",
      "Validate:        yolo val task=detect model=runs/detect/fpt_experiment/weights/best_ncnn_model imgsz=640 data=dataset.yaml  \n",
      "Visualize:       https://netron.app\n",
      "✅ Export thành công: runs/detect/fpt_experiment/weights/best_ncnn_model\n"
     ]
    },
    {
     "name": "stderr",
     "output_type": "stream",
     "text": [
      "############# pass_level1\n",
      "############# pass_level2\n",
      "############# pass_level3\n",
      "############# pass_level4\n",
      "############# pass_level5\n",
      "############# pass_ncnn\n"
     ]
    }
   ],
   "source": [
    "print(\"\\n=== 📤 BẮT ĐẦU EXPORT ===\")\n",
    "try:\n",
    "    export_path = model.export(format='ncnn')\n",
    "    print(f\"✅ Export thành công: {export_path}\")\n",
    "except Exception as e:\n",
    "    export_path = None\n",
    "    print(f\"❌ Export thất bại: {e}\")"
   ]
  },
  {
   "cell_type": "code",
   "execution_count": null,
   "id": "9fcfa4e6-e5f9-4445-a68b-626a649c64e0",
   "metadata": {},
   "outputs": [
    {
     "name": "stdout",
     "output_type": "stream",
     "text": [
      "\n",
      "🎉 HOÀN TẤT QUÁ TRÌNH TRAIN & EXPORT!\n",
      "📁 PyTorch model: runs/detect/fpt_experiment/weights/best.pt\n",
      "📱 NCNN model: runs/detect/fpt_experiment/weights/best_ncnn_model\n",
      "📊 Kích thước model (PyTorch): 5.96 MB\n"
     ]
    }
   ],
   "source": [
    "# Lấy đường dẫn đến best model\n",
    "best_model_path = os.path.join('runs', 'detect', 'fpt_hackathon', 'weights', 'best.pt')\n",
    "\n",
    "if export_path and os.path.exists(best_model_path):\n",
    "    print(\"\\n🎉 HOÀN TẤT QUÁ TRÌNH TRAIN & EXPORT!\")\n",
    "    print(f\"📁 PyTorch model: {best_model_path}\")\n",
    "    print(f\"📱 NCNN model directory: {export_path}\")\n",
    "    size_mb = os.path.getsize(best_model_path) / (1024*1024)\n",
    "    print(f\"📊 Kích thước model (PyTorch): {size_mb:.2f} MB\")\n",
    "    \n",
    "    # Kiểm tra kích thước NCNN model files\n",
    "    ncnn_param_path = os.path.join(export_path, 'model.ncnn.param')\n",
    "    ncnn_bin_path = os.path.join(export_path, 'model.ncnn.bin')\n",
    "    \n",
    "    if os.path.exists(ncnn_param_path) and os.path.exists(ncnn_bin_path):\n",
    "        param_size_mb = os.path.getsize(ncnn_param_path) / (1024*1024)\n",
    "        bin_size_mb = os.path.getsize(ncnn_bin_path) / (1024*1024)\n",
    "        total_ncnn_size = param_size_mb + bin_size_mb\n",
    "        print(f\"📊 Kích thước NCNN param: {param_size_mb:.2f} MB\")\n",
    "        print(f\"📊 Kích thước NCNN bin: {bin_size_mb:.2f} MB\")\n",
    "        print(f\"📊 Tổng kích thước NCNN: {total_ncnn_size:.2f} MB\")\n",
    "    else:\n",
    "        print(\"⚠️ Không tìm thấy file NCNN model\")\n",
    "else:\n",
    "    print(\"⚠️ Không export được model sang NCNN hoặc không tìm thấy best model.\")"
   ]
  },
  {
   "cell_type": "code",
   "execution_count": null,
   "id": "b42ae71b-a965-4730-a60c-cb784b650da6",
   "metadata": {
    "editable": true,
    "slideshow": {
     "slide_type": ""
    },
    "tags": []
   },
   "outputs": [],
   "source": [
    "import zipfile\n",
    "import os\n",
    "\n",
    "# Danh sách file/thư mục cần zip\n",
    "items_to_zip = [\n",
    "    \"archive\",\n",
    "    \"archive.zip\",\n",
    "    \"dataset.yaml\",\n",
    "    \"runs\",\n",
    "    \"train_yolo.ipynb\",\n",
    "    \"yolo11n.pt\",\n",
    "    \"yolov8n.pt\"\n",
    "]\n",
    "\n",
    "# Tên file zip đầu ra\n",
    "output_zip = \"selected_workspace.zip\"\n",
    "\n",
    "# Tạo file zip mới\n",
    "with zipfile.ZipFile(output_zip, 'w', zipfile.ZIP_DEFLATED) as zipf:\n",
    "    for item in items_to_zip:\n",
    "        if os.path.exists(item):\n",
    "            if os.path.isdir(item):\n",
    "                # Duyệt và thêm từng file trong thư mục\n",
    "                for root, _, files in os.walk(item):\n",
    "                    for file in files:\n",
    "                        filepath = os.path.join(root, file)\n",
    "                        arcname = os.path.relpath(filepath, \".\")\n",
    "                        zipf.write(filepath, arcname)\n",
    "            else:\n",
    "                zipf.write(item)\n",
    "        else:\n",
    "            print(f\"⚠️ Không tìm thấy: {item}\")\n",
    "\n",
    "print(f\"✅ Đã tạo file ZIP: {output_zip}\")\n"
   ]
  }
 ],
 "metadata": {
  "kernelspec": {
   "display_name": "Python 3 (ipykernel)",
   "language": "python",
   "name": "python3"
  },
  "language_info": {
   "codemirror_mode": {
    "name": "ipython",
    "version": 3
   },
   "file_extension": ".py",
   "mimetype": "text/x-python",
   "name": "python",
   "nbconvert_exporter": "python",
   "pygments_lexer": "ipython3",
   "version": "3.10.12"
  }
 },
 "nbformat": 4,
 "nbformat_minor": 5
}
