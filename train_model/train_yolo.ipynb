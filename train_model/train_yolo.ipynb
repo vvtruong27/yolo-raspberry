{
 "cells": [
  {
   "cell_type": "code",
   "execution_count": null,
   "id": "4ada701a-c224-4dd4-971e-58edcf9bd000",
   "metadata": {},
   "outputs": [],
   "source": [
    "\"\"\"\n",
    "Script train YOLOv8n để nhận diện biển báo giao thông\n",
    "Tối ưu để deploy trên Raspberry Pi 5 (train trên GPU mạnh)\n",
    "\"\"\"\n",
    "\n",
    "from ultralytics import YOLO\n",
    "import torch\n",
    "import os"
   ]
  },
  {
   "cell_type": "code",
   "execution_count": null,
   "id": "37e80edc-b137-4250-a512-71badeeaca06",
   "metadata": {},
   "outputs": [],
   "source": [
    "print(\"\\n💻 KIỂM TRA PHẦN CỨNG TRAINING\")\n",
    "print(\"=\" * 50)\n",
    "print(\"CUDA available:\", torch.cuda.is_available())\n",
    "if torch.cuda.is_available():\n",
    "    print(\"GPU:\", torch.cuda.get_device_name())\n",
    "    print(f\"Memory: {torch.cuda.get_device_properties(0).total_memory / 1e9:.1f} GB\")\n",
    "    print(\"✅ Sử dụng GPU để training nhanh hơn\")\n",
    "else:\n",
    "    print(\"⚠️  Training trên CPU (sẽ chậm hơn)\")"
   ]
  },
  {
   "cell_type": "code",
   "execution_count": null,
   "id": "7a8fb941-21c7-4b9a-9c94-74e1e915b8f6",
   "metadata": {},
   "outputs": [],
   "source": [
    "# Khởi tạo model YOLOv8n với pretrained weights\n",
    "model = YOLO('yolov8n.pt')\n",
    "\n",
    "# Cấu hình các hyperparameters\n",
    "train_params = {\n",
    "    'data': \"dataset.yaml\",          # File cấu hình dataset\n",
    "    'epochs': 30,                   # Số epoch\n",
    "    'patience': 15,                  # Early stopping\n",
    "    'batch': -1,                     # Auto batch size\n",
    "    'workers': 8,                   # Số worker\n",
    "    'name': 'fpt_hackathon',        # Tên experiment\n",
    "    'exist_ok': True,                # Ghi đè nếu đã tồn tại\n",
    "    'cache': True,                   # Cache dữ liệu\n",
    "    'cos_lr': True,                  # Sử dụng cosine LR scheduler\n",
    "    'close_mosaic': 10,              # Đóng mosaic sau 10 epoch\n",
    "}\n",
    "\n",
    "print(\"📊 Training parameters:\")\n",
    "for k, v in train_params.items():\n",
    "    print(f\"{k}: {v}\")"
   ]
  },
  {
   "cell_type": "code",
   "execution_count": null,
   "id": "cc279dce-82a0-4e3b-9cfe-0385bb7738c4",
   "metadata": {},
   "outputs": [],
   "source": [
    "print(\"\\n=== 🔧 BẮT ĐẦU TRAINING ===\")\n",
    "results = model.train(**train_params)"
   ]
  },
  {
   "cell_type": "code",
   "execution_count": null,
   "id": "78f2aa50-1882-41b9-95b4-004863872921",
   "metadata": {},
   "outputs": [],
   "source": [
    "best_model_path = f\"{results.save_dir}/weights/best.pt\"\n",
    "print(f\"✅ Best model saved at: {best_model_path}\")"
   ]
  },
  {
   "cell_type": "code",
   "execution_count": null,
   "id": "a9cd3e3a-1ade-4701-b77a-23f471f3a3ba",
   "metadata": {},
   "outputs": [],
   "source": [
    "print(\"\\n=== 📤 BẮT ĐẦU EXPORT ===\")\n",
    "try:\n",
    "    export_path = model.export(format='ncnn')\n",
    "    print(f\"✅ Export thành công: {export_path}\")\n",
    "except Exception as e:\n",
    "    export_path = None\n",
    "    print(f\"❌ Export thất bại: {e}\")"
   ]
  },
  {
   "cell_type": "code",
   "execution_count": null,
   "id": "9fcfa4e6-e5f9-4445-a68b-626a649c64e0",
   "metadata": {},
   "outputs": [],
   "source": [
    "# Lấy đường dẫn đến best model\n",
    "best_model_path = os.path.join('runs', 'detect', 'fpt_hackathon', 'weights', 'best.pt')\n",
    "\n",
    "if export_path and os.path.exists(best_model_path):\n",
    "    print(\"\\n🎉 HOÀN TẤT QUÁ TRÌNH TRAIN & EXPORT!\")\n",
    "    print(f\"📁 PyTorch model: {best_model_path}\")\n",
    "    print(f\"📱 NCNN model directory: {export_path}\")\n",
    "    size_mb = os.path.getsize(best_model_path) / (1024*1024)\n",
    "    print(f\"📊 Kích thước model (PyTorch): {size_mb:.2f} MB\")\n",
    "    \n",
    "    # Kiểm tra kích thước NCNN model files\n",
    "    ncnn_param_path = os.path.join(export_path, 'model.ncnn.param')\n",
    "    ncnn_bin_path = os.path.join(export_path, 'model.ncnn.bin')\n",
    "    \n",
    "    if os.path.exists(ncnn_param_path) and os.path.exists(ncnn_bin_path):\n",
    "        param_size_mb = os.path.getsize(ncnn_param_path) / (1024*1024)\n",
    "        bin_size_mb = os.path.getsize(ncnn_bin_path) / (1024*1024)\n",
    "        total_ncnn_size = param_size_mb + bin_size_mb\n",
    "        print(f\"📊 Kích thước NCNN param: {param_size_mb:.2f} MB\")\n",
    "        print(f\"📊 Kích thước NCNN bin: {bin_size_mb:.2f} MB\")\n",
    "        print(f\"📊 Tổng kích thước NCNN: {total_ncnn_size:.2f} MB\")\n",
    "    else:\n",
    "        print(\"⚠️ Không tìm thấy file NCNN model\")\n",
    "else:\n",
    "    print(\"⚠️ Không export được model sang NCNN hoặc không tìm thấy best model.\")"
   ]
  },
  {
   "cell_type": "code",
   "execution_count": null,
   "id": "b42ae71b-a965-4730-a60c-cb784b650da6",
   "metadata": {
    "editable": true,
    "slideshow": {
     "slide_type": ""
    },
    "tags": []
   },
   "outputs": [],
   "source": [
    "import zipfile\n",
    "import os\n",
    "\n",
    "# Danh sách file/thư mục cần zip\n",
    "items_to_zip = [\n",
    "    \"archive\",\n",
    "    \"archive.zip\",\n",
    "    \"dataset.yaml\",\n",
    "    \"runs\",\n",
    "    \"train_yolo.ipynb\",\n",
    "    \"yolo11n.pt\",\n",
    "    \"yolov8n.pt\"\n",
    "]\n",
    "\n",
    "# Tên file zip đầu ra\n",
    "output_zip = \"selected_workspace.zip\"\n",
    "\n",
    "# Tạo file zip mới\n",
    "with zipfile.ZipFile(output_zip, 'w', zipfile.ZIP_DEFLATED) as zipf:\n",
    "    for item in items_to_zip:\n",
    "        if os.path.exists(item):\n",
    "            if os.path.isdir(item):\n",
    "                # Duyệt và thêm từng file trong thư mục\n",
    "                for root, _, files in os.walk(item):\n",
    "                    for file in files:\n",
    "                        filepath = os.path.join(root, file)\n",
    "                        arcname = os.path.relpath(filepath, \".\")\n",
    "                        zipf.write(filepath, arcname)\n",
    "            else:\n",
    "                zipf.write(item)\n",
    "        else:\n",
    "            print(f\"⚠️ Không tìm thấy: {item}\")\n",
    "\n",
    "print(f\"✅ Đã tạo file ZIP: {output_zip}\")\n"
   ]
  }
 ],
 "metadata": {
  "kernelspec": {
   "display_name": "Python 3 (ipykernel)",
   "language": "python",
   "name": "python3"
  },
  "language_info": {
   "codemirror_mode": {
    "name": "ipython",
    "version": 3
   },
   "file_extension": ".py",
   "mimetype": "text/x-python",
   "name": "python",
   "nbconvert_exporter": "python",
   "pygments_lexer": "ipython3",
   "version": "3.10.12"
  }
 },
 "nbformat": 4,
 "nbformat_minor": 5
}
